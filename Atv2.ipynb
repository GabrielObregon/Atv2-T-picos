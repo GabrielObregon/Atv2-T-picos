{
  "nbformat": 4,
  "nbformat_minor": 0,
  "metadata": {
    "colab": {
      "name": "Atv2",
      "provenance": [],
      "collapsed_sections": []
    },
    "kernelspec": {
      "name": "python3",
      "display_name": "Python 3"
    },
    "language_info": {
      "name": "python"
    }
  },
  "cells": [
    {
      "cell_type": "code",
      "execution_count": null,
      "metadata": {
        "colab": {
          "base_uri": "https://localhost:8080/"
        },
        "id": "Yp8bAjCsnfCN",
        "outputId": "fb6c932d-606c-4402-86b2-c77323190181"
      },
      "outputs": [
        {
          "output_type": "stream",
          "name": "stdout",
          "text": [
            "Requirement already satisfied: pandas in /usr/local/lib/python3.7/dist-packages (1.1.5)\n",
            "Requirement already satisfied: numpy>=1.15.4 in /usr/local/lib/python3.7/dist-packages (from pandas) (1.19.5)\n",
            "Requirement already satisfied: pytz>=2017.2 in /usr/local/lib/python3.7/dist-packages (from pandas) (2018.9)\n",
            "Requirement already satisfied: python-dateutil>=2.7.3 in /usr/local/lib/python3.7/dist-packages (from pandas) (2.8.2)\n",
            "Requirement already satisfied: six>=1.5 in /usr/local/lib/python3.7/dist-packages (from python-dateutil>=2.7.3->pandas) (1.15.0)\n"
          ]
        }
      ],
      "source": [
        "!pip install pandas"
      ]
    },
    {
      "cell_type": "code",
      "source": [
        "nome = ''\n",
        "saltos = []\n",
        "posicaoSalto = ['Primeiro Salto:', 'Segundo Salto:', 'Terceiro Salto:', 'Quarto Salto:', 'Quinto Salto:']\n",
        "soma_saltos = 0\n",
        "\n",
        "nome = input('Informe seu nome: ')\n",
        "\n",
        "#obter as distâncias\n",
        "for salto in range(5):\n",
        "  \n",
        "  distancia = input(f'Informe a distância do salto {salto+1}: ')\n",
        "  saltos.append(distancia)\n",
        "  \n",
        "print(f'Atleta: {nome}')\n",
        "\n",
        "#imprimir os saltos\n",
        "for salto in range(5): \n",
        "  print(f'{posicaoSalto[salto]} {saltos[salto]}')\n",
        "  soma_saltos = soma_saltos + int(saltos[salto])\n",
        "\n",
        "print(f'Média: {soma_saltos/len(saltos)}')"
      ],
      "metadata": {
        "colab": {
          "base_uri": "https://localhost:8080/"
        },
        "id": "o3EEpclSno_L",
        "outputId": "edb0ed60-95f4-415a-b5c2-5b8f27064723"
      },
      "execution_count": null,
      "outputs": [
        {
          "output_type": "stream",
          "name": "stdout",
          "text": [
            "Informe seu nome: ga\n",
            "Informe a distância do salto 1: 3\n",
            "Informe a distância do salto 2: 3\n",
            "Informe a distância do salto 3: 3\n",
            "Informe a distância do salto 4: 3\n",
            "Informe a distância do salto 5: 3\n",
            "Atleta: ga\n",
            "Primeiro Salto: 3\n",
            "Segundo Salto: 3\n",
            "Terceiro Salto: 3\n",
            "Quarto Salto: 3\n",
            "Quinto Salto: 3\n",
            "Média: 3.0\n"
          ]
        }
      ]
    },
    {
      "cell_type": "code",
      "source": [
        "from random import randint\n",
        "\n",
        "valores_dado = [0,0,0,0,0,0]\n",
        "\n",
        "for joga_dado in range(100):\n",
        "  jogada = randint(0,5)\n",
        "  valores_dado[jogada] += 1\n",
        "\n",
        "for mostra in range(6):\n",
        "  print(f'O dado caiu {valores_dado[mostra]} vezes na posição {mostra+1}' )\n"
      ],
      "metadata": {
        "colab": {
          "base_uri": "https://localhost:8080/"
        },
        "id": "XiR2aWzPnwOn",
        "outputId": "406602a5-024d-45c3-acad-a171441c65c6"
      },
      "execution_count": null,
      "outputs": [
        {
          "output_type": "stream",
          "name": "stdout",
          "text": [
            "O dado caiu 9 vezes na posição 1\n",
            "O dado caiu 21 vezes na posição 2\n",
            "O dado caiu 19 vezes na posição 3\n",
            "O dado caiu 24 vezes na posição 4\n",
            "O dado caiu 12 vezes na posição 5\n",
            "O dado caiu 15 vezes na posição 6\n"
          ]
        }
      ]
    },
    {
      "cell_type": "code",
      "source": [
        "nome = ''\n",
        "\n",
        "nome = input('Informe seu nome: ')\n",
        "\n",
        "for mostra in range(len(nome)):\n",
        "  print(f'{nome[: mostra+1]}')"
      ],
      "metadata": {
        "colab": {
          "base_uri": "https://localhost:8080/"
        },
        "id": "ZNN2uXGFn0cB",
        "outputId": "ddb36962-8e16-4116-8560-f5f6e30ee2ec"
      },
      "execution_count": null,
      "outputs": [
        {
          "output_type": "stream",
          "name": "stdout",
          "text": [
            "Informe seu nome: gabriel\n",
            "g\n",
            "ga\n",
            "gab\n",
            "gabr\n",
            "gabri\n",
            "gabrie\n",
            "gabriel\n"
          ]
        }
      ]
    },
    {
      "cell_type": "code",
      "source": [
        "def soma(a, b, c):\n",
        "  return a+b+c\n",
        "\n",
        "a, b, c = input('Informe 3 valores: ').split()\n",
        "\n",
        "a = int(a)\n",
        "b = int(b)\n",
        "c = int(c)\n",
        "\n",
        "total = soma(a, b, c)\n",
        "print(f'{total}')"
      ],
      "metadata": {
        "colab": {
          "base_uri": "https://localhost:8080/"
        },
        "id": "j6quWnUin5Ot",
        "outputId": "eb6bdbd8-c1d3-4ec6-84be-e8d37fcde131"
      },
      "execution_count": null,
      "outputs": [
        {
          "output_type": "stream",
          "name": "stdout",
          "text": [
            "Informe 3 valores: 3 2 1\n",
            "6\n"
          ]
        }
      ]
    },
    {
      "cell_type": "code",
      "source": [
        "import pandas as pd\n",
        "\n",
        "df = pd.read_fwf('/content/usuarios.txt', header=None, names=['Usuario', 'Espaço utilizado'])\n",
        "\n",
        "def conversao(num):\n",
        "    return round((num / (1024 * 1024)), 2)\n",
        "espaco =df['Espaço utilizado'].sum()\n",
        "\n",
        "df['% de uso'] = round((df['Espaço utilizado']* 100 /espaco),2)\n",
        "\n",
        "df['Espaço utilizado'] = conversao(df['Espaço utilizado'])\n",
        "print(df)\n",
        "\n",
        "rsl = ('ACME Inc.            Uso do espaço em disco pelos usuário\\n')\n",
        "rsl += ('----------------------------------------------------------\\n')\n",
        "rsl += ('Nr. Usuário:      Espaço utilizado:       % de uso:\\n')\n",
        "\n",
        "x = 1\n",
        "for index, line in df.iterrows():\n",
        "    rsl += f'{x} {line[\"Usuario\"]} \\t {line[\"Espaço utilizado\"]} MB \\t {line[\"% de uso\"]} %\\n'\n",
        "    x= x+1\n",
        "\n",
        "rsl += '\\n'\n",
        "rsl += f'Espaco total ocupado: {conversao(espaco)} MB\\n'\n",
        "rsl += f'Espaco medio ocupado: {conversao(espaco/6)} MB\\n'\n",
        "\n",
        "with open('rsl.txt', 'w') as arquivo:\n",
        "    arquivo.write(rsl) "
      ],
      "metadata": {
        "colab": {
          "base_uri": "https://localhost:8080/"
        },
        "id": "13OiO0ntq1oP",
        "outputId": "cdf75724-1301-4f3d-8921-f25ada6ae203"
      },
      "execution_count": null,
      "outputs": [
        {
          "output_type": "stream",
          "name": "stdout",
          "text": [
            "     Usuario  Espaço utilizado  % de uso\n",
            "0  alexandre            434.99     16.85\n",
            "1   anderson           1187.99     46.02\n",
            "2    antonio            117.74      4.56\n",
            "3     carlos             87.03      3.37\n",
            "4      cesar              0.94      0.04\n",
            "5   rosemary            752.88     29.16\n"
          ]
        }
      ]
    }
  ]
}